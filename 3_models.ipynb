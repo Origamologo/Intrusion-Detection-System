{
 "cells": [
  {
   "cell_type": "code",
   "execution_count": 6,
   "metadata": {},
   "outputs": [],
   "source": [
    "import pandas as pd\n",
    "import matplotlib.pyplot as plt\n",
    "import time\n",
    "import pickle\n",
    "\n",
    "from sklearn.model_selection import train_test_split\n",
    "from sklearn.preprocessing import MinMaxScaler\n",
    "from sklearn.metrics import accuracy_score\n",
    "\n",
    "from sklearn.metrics import silhouette_score\n",
    "from ds_utils.unsupervised import plot_cluster_cardinality, plot_cluster_magnitude, plot_magnitude_vs_cardinality\n",
    "from scipy.spatial.distance import euclidean\n",
    "\n",
    "from sklearn.naive_bayes import GaussianNB\n",
    "from sklearn.tree import DecisionTreeClassifier\n",
    "from sklearn.ensemble import RandomForestClassifier\n",
    "from sklearn.svm import SVC\n",
    "from sklearn.linear_model import LogisticRegression\n",
    "from sklearn.ensemble import GradientBoostingClassifier\n",
    "\n",
    "from keras.models import Sequential\n",
    "from keras.layers import Dense\n",
    "from keras.wrappers.scikit_learn import KerasClassifier\n",
    "\n",
    "import warnings\n",
    "warnings.filterwarnings('ignore')"
   ]
  },
  {
   "cell_type": "code",
   "execution_count": 7,
   "metadata": {},
   "outputs": [],
   "source": [
    "df = pd.read_csv(r\"C:\\Users\\mituc\\Python\\attack_classifier\\data\\df_attacks_enc.csv\")\n",
    "df.drop(columns=['Unnamed: 0'], inplace=True)"
   ]
  },
  {
   "cell_type": "code",
   "execution_count": 8,
   "metadata": {},
   "outputs": [
    {
     "data": {
      "text/html": [
       "<div>\n",
       "<style scoped>\n",
       "    .dataframe tbody tr th:only-of-type {\n",
       "        vertical-align: middle;\n",
       "    }\n",
       "\n",
       "    .dataframe tbody tr th {\n",
       "        vertical-align: top;\n",
       "    }\n",
       "\n",
       "    .dataframe thead th {\n",
       "        text-align: right;\n",
       "    }\n",
       "</style>\n",
       "<table border=\"1\" class=\"dataframe\">\n",
       "  <thead>\n",
       "    <tr style=\"text-align: right;\">\n",
       "      <th></th>\n",
       "      <th>duration</th>\n",
       "      <th>protocol_type</th>\n",
       "      <th>flag</th>\n",
       "      <th>src_bytes</th>\n",
       "      <th>dst_bytes</th>\n",
       "      <th>land</th>\n",
       "      <th>wrong_fragment</th>\n",
       "      <th>urgent</th>\n",
       "      <th>num_failed_logins</th>\n",
       "      <th>logged_in</th>\n",
       "      <th>...</th>\n",
       "      <th>srv_count</th>\n",
       "      <th>serror_rate</th>\n",
       "      <th>rerror_rate</th>\n",
       "      <th>same_srv_rate</th>\n",
       "      <th>diff_srv_rate</th>\n",
       "      <th>srv_diff_host_rate</th>\n",
       "      <th>dst_host_count</th>\n",
       "      <th>dst_host_diff_srv_rate</th>\n",
       "      <th>dst_host_srv_diff_host_rate</th>\n",
       "      <th>Attack Type</th>\n",
       "    </tr>\n",
       "  </thead>\n",
       "  <tbody>\n",
       "    <tr>\n",
       "      <th>0</th>\n",
       "      <td>0</td>\n",
       "      <td>1</td>\n",
       "      <td>0</td>\n",
       "      <td>181</td>\n",
       "      <td>5450</td>\n",
       "      <td>0</td>\n",
       "      <td>0</td>\n",
       "      <td>0</td>\n",
       "      <td>0</td>\n",
       "      <td>1</td>\n",
       "      <td>...</td>\n",
       "      <td>8</td>\n",
       "      <td>0.0</td>\n",
       "      <td>0.0</td>\n",
       "      <td>1.0</td>\n",
       "      <td>0.0</td>\n",
       "      <td>0.0</td>\n",
       "      <td>9</td>\n",
       "      <td>0.0</td>\n",
       "      <td>0.0</td>\n",
       "      <td>normal</td>\n",
       "    </tr>\n",
       "    <tr>\n",
       "      <th>1</th>\n",
       "      <td>0</td>\n",
       "      <td>1</td>\n",
       "      <td>0</td>\n",
       "      <td>239</td>\n",
       "      <td>486</td>\n",
       "      <td>0</td>\n",
       "      <td>0</td>\n",
       "      <td>0</td>\n",
       "      <td>0</td>\n",
       "      <td>1</td>\n",
       "      <td>...</td>\n",
       "      <td>8</td>\n",
       "      <td>0.0</td>\n",
       "      <td>0.0</td>\n",
       "      <td>1.0</td>\n",
       "      <td>0.0</td>\n",
       "      <td>0.0</td>\n",
       "      <td>19</td>\n",
       "      <td>0.0</td>\n",
       "      <td>0.0</td>\n",
       "      <td>normal</td>\n",
       "    </tr>\n",
       "    <tr>\n",
       "      <th>2</th>\n",
       "      <td>0</td>\n",
       "      <td>1</td>\n",
       "      <td>0</td>\n",
       "      <td>235</td>\n",
       "      <td>1337</td>\n",
       "      <td>0</td>\n",
       "      <td>0</td>\n",
       "      <td>0</td>\n",
       "      <td>0</td>\n",
       "      <td>1</td>\n",
       "      <td>...</td>\n",
       "      <td>8</td>\n",
       "      <td>0.0</td>\n",
       "      <td>0.0</td>\n",
       "      <td>1.0</td>\n",
       "      <td>0.0</td>\n",
       "      <td>0.0</td>\n",
       "      <td>29</td>\n",
       "      <td>0.0</td>\n",
       "      <td>0.0</td>\n",
       "      <td>normal</td>\n",
       "    </tr>\n",
       "    <tr>\n",
       "      <th>3</th>\n",
       "      <td>0</td>\n",
       "      <td>1</td>\n",
       "      <td>0</td>\n",
       "      <td>219</td>\n",
       "      <td>1337</td>\n",
       "      <td>0</td>\n",
       "      <td>0</td>\n",
       "      <td>0</td>\n",
       "      <td>0</td>\n",
       "      <td>1</td>\n",
       "      <td>...</td>\n",
       "      <td>6</td>\n",
       "      <td>0.0</td>\n",
       "      <td>0.0</td>\n",
       "      <td>1.0</td>\n",
       "      <td>0.0</td>\n",
       "      <td>0.0</td>\n",
       "      <td>39</td>\n",
       "      <td>0.0</td>\n",
       "      <td>0.0</td>\n",
       "      <td>normal</td>\n",
       "    </tr>\n",
       "    <tr>\n",
       "      <th>4</th>\n",
       "      <td>0</td>\n",
       "      <td>1</td>\n",
       "      <td>0</td>\n",
       "      <td>217</td>\n",
       "      <td>2032</td>\n",
       "      <td>0</td>\n",
       "      <td>0</td>\n",
       "      <td>0</td>\n",
       "      <td>0</td>\n",
       "      <td>1</td>\n",
       "      <td>...</td>\n",
       "      <td>6</td>\n",
       "      <td>0.0</td>\n",
       "      <td>0.0</td>\n",
       "      <td>1.0</td>\n",
       "      <td>0.0</td>\n",
       "      <td>0.0</td>\n",
       "      <td>49</td>\n",
       "      <td>0.0</td>\n",
       "      <td>0.0</td>\n",
       "      <td>normal</td>\n",
       "    </tr>\n",
       "  </tbody>\n",
       "</table>\n",
       "<p>5 rows × 29 columns</p>\n",
       "</div>"
      ],
      "text/plain": [
       "   duration  protocol_type  flag  src_bytes  dst_bytes  land  wrong_fragment  \\\n",
       "0         0              1     0        181       5450     0               0   \n",
       "1         0              1     0        239        486     0               0   \n",
       "2         0              1     0        235       1337     0               0   \n",
       "3         0              1     0        219       1337     0               0   \n",
       "4         0              1     0        217       2032     0               0   \n",
       "\n",
       "   urgent  num_failed_logins  logged_in  ...  srv_count  serror_rate  \\\n",
       "0       0                  0          1  ...          8          0.0   \n",
       "1       0                  0          1  ...          8          0.0   \n",
       "2       0                  0          1  ...          8          0.0   \n",
       "3       0                  0          1  ...          6          0.0   \n",
       "4       0                  0          1  ...          6          0.0   \n",
       "\n",
       "   rerror_rate  same_srv_rate  diff_srv_rate  srv_diff_host_rate  \\\n",
       "0          0.0            1.0            0.0                 0.0   \n",
       "1          0.0            1.0            0.0                 0.0   \n",
       "2          0.0            1.0            0.0                 0.0   \n",
       "3          0.0            1.0            0.0                 0.0   \n",
       "4          0.0            1.0            0.0                 0.0   \n",
       "\n",
       "   dst_host_count  dst_host_diff_srv_rate  dst_host_srv_diff_host_rate  \\\n",
       "0               9                     0.0                          0.0   \n",
       "1              19                     0.0                          0.0   \n",
       "2              29                     0.0                          0.0   \n",
       "3              39                     0.0                          0.0   \n",
       "4              49                     0.0                          0.0   \n",
       "\n",
       "   Attack Type  \n",
       "0       normal  \n",
       "1       normal  \n",
       "2       normal  \n",
       "3       normal  \n",
       "4       normal  \n",
       "\n",
       "[5 rows x 29 columns]"
      ]
     },
     "execution_count": 8,
     "metadata": {},
     "output_type": "execute_result"
    }
   ],
   "source": [
    "df.head(5)"
   ]
  },
  {
   "cell_type": "code",
   "execution_count": 90,
   "metadata": {},
   "outputs": [
    {
     "name": "stdout",
     "output_type": "stream",
     "text": [
      "(330994, 28) (163027, 28)\n",
      "(330994, 1) (163027, 1)\n"
     ]
    }
   ],
   "source": [
    "Y = df[['Attack Type']]\n",
    "X = df.drop(['Attack Type',], axis=1)\n",
    "\n",
    "sc = MinMaxScaler()\n",
    "X = sc.fit_transform(X)\n",
    "\n",
    "X_train, X_test, Y_train, Y_test = train_test_split(X, Y, test_size=0.33, random_state=42)\n",
    "print(X_train.shape, X_test.shape)\n",
    "print(Y_train.shape, Y_test.shape)"
   ]
  },
  {
   "cell_type": "markdown",
   "metadata": {},
   "source": [
    "KMEANS"
   ]
  },
  {
   "cell_type": "code",
   "execution_count": 10,
   "metadata": {},
   "outputs": [],
   "source": [
    "# model = KMeans()\n",
    "# visualizer = KElbowVisualizer(model, k=(2,15), metric='silhouette')\n",
    "# visualizer.fit(X)  \n",
    "# visualizer.show();"
   ]
  },
  {
   "cell_type": "code",
   "execution_count": 11,
   "metadata": {},
   "outputs": [],
   "source": [
    "kmeans = KMeans(n_clusters=5)\n",
    "km_fit = kmeans.fit(X)"
   ]
  },
  {
   "cell_type": "code",
   "execution_count": 12,
   "metadata": {},
   "outputs": [
    {
     "data": {
      "text/plain": [
       "array([4, 4, 4, ..., 4, 4, 4])"
      ]
     },
     "execution_count": 12,
     "metadata": {},
     "output_type": "execute_result"
    }
   ],
   "source": [
    "labels = km_fit.labels_\n",
    "labels"
   ]
  },
  {
   "cell_type": "code",
   "execution_count": 13,
   "metadata": {},
   "outputs": [
    {
     "data": {
      "text/plain": [
       "array([[-3.19948061e-16,  9.05941988e-14,  2.66384137e-14,\n",
       "         1.34958324e-06,  1.98680048e-17,  1.73201297e-17,\n",
       "         1.97238059e-15, -2.88584125e-18,  1.56294519e-17,\n",
       "         1.10994547e-13, -2.65121312e-18,  7.23704950e-17,\n",
       "         2.44623115e-18,  6.91178885e-19, -4.99410626e-18,\n",
       "         1.22514845e-17,  0.00000000e+00,  0.00000000e+00,\n",
       "        -1.03194363e-15,  9.92320240e-01,  4.07729406e-14,\n",
       "        -1.21916366e-14,  1.00000000e+00,  1.28855260e-14,\n",
       "         5.35335665e-15,  9.99928417e-01,  3.31947843e-05,\n",
       "        -3.16673771e-15],\n",
       "       [ 2.06679229e-07,  5.00143653e-01,  1.00491869e-01,\n",
       "         1.14927987e-05,  1.46418755e-06,  2.18353158e-04,\n",
       "         6.70382501e-04, -1.30019557e-18,  1.14922714e-05,\n",
       "         8.04459002e-05,  1.17002764e-07,  1.89193279e-17,\n",
       "        -6.16639986e-18,  8.20876532e-07, -4.72305571e-18,\n",
       "         1.17364885e-17,  0.00000000e+00,  0.00000000e+00,\n",
       "         1.39428399e-16,  2.17289841e-02,  9.99174050e-01,\n",
       "         9.53858530e-05,  7.22009998e-02,  6.42469689e-02,\n",
       "         3.69936218e-04,  9.98270751e-01,  6.69363903e-02,\n",
       "         1.85140493e-04],\n",
       "       [ 1.52056858e-02,  9.23373663e-01,  6.57548659e-04,\n",
       "         1.37000306e-06,  7.41497131e-04,  8.76731545e-05,\n",
       "         4.15278508e-02,  4.99749439e-19,  1.13975101e-04,\n",
       "        -5.44009282e-15,  1.04523866e-18,  7.18283939e-19,\n",
       "         2.71050543e-20, -1.90413007e-18, -3.46267069e-18,\n",
       "         9.37834879e-18,  0.00000000e+00,  0.00000000e+00,\n",
       "         8.30498864e-17,  2.90657954e-02,  2.31676311e-03,\n",
       "         1.62195336e-04,  9.47316763e-01,  5.76117833e-02,\n",
       "         7.48597230e-02,  8.87524798e-01,  2.04182886e-01,\n",
       "         6.19893039e-03],\n",
       "       [ 1.26827452e-03,  4.99612703e-01,  2.05735512e-01,\n",
       "         1.41495147e-09,  1.93565876e-06,  3.52087881e-05,\n",
       "        -4.33680869e-17, -9.49523934e-19,  3.45046124e-04,\n",
       "         1.76043941e-04, -4.04034716e-18,  2.03287907e-18,\n",
       "        -4.34019682e-18,  1.10791910e-17, -3.86924650e-18,\n",
       "         1.01643954e-17,  0.00000000e+00,  0.00000000e+00,\n",
       "         3.29380620e-16,  1.54359875e-02,  5.98126892e-03,\n",
       "         9.92548764e-01,  2.69035279e-01,  1.04845433e-01,\n",
       "         4.21713260e-02,  8.23198587e-01,  1.29403563e-01,\n",
       "         2.99112739e-02],\n",
       "       [ 3.12588975e-04,  4.88003999e-01,  1.41152949e-03,\n",
       "         9.93602700e-06,  8.81431713e-04,  4.24194100e-18,\n",
       "         7.15317117e-04,  3.11007442e-05,  2.13262246e-05,\n",
       "         9.76007997e-01,  7.59324569e-05,  7.33088970e-04,\n",
       "         1.19960013e-04,  2.53724949e-04,  3.59880040e-04,\n",
       "         8.29723426e-04,  0.00000000e+00,  0.00000000e+00,\n",
       "         9.13028990e-03,  2.09418517e-02,  1.61359547e-03,\n",
       "         2.27844052e-03,  9.96202732e-01,  6.44091969e-03,\n",
       "         1.51781273e-01,  5.21641649e-01,  1.46771076e-02,\n",
       "         3.05862046e-02]])"
      ]
     },
     "execution_count": 13,
     "metadata": {},
     "output_type": "execute_result"
    }
   ],
   "source": [
    "centroids = km_fit.cluster_centers_\n",
    "centroids"
   ]
  },
  {
   "cell_type": "code",
   "execution_count": 14,
   "metadata": {},
   "outputs": [
    {
     "data": {
      "image/png": "[encoded data removed]",
      "text/plain": [
       "<Figure size 864x288 with 3 Axes>"
      ]
     },
     "metadata": {},
     "output_type": "display_data"
    }
   ],
   "source": [
    "cluster_colors = ['blue', 'yellow', 'red', 'green', \"purple\"]\n",
    "\n",
    "# iniciamos los subplots\n",
    "fig, (ax1, ax2, ax3) = plt.subplots(1,3,figsize=(12,4))\n",
    "\n",
    "# ploteamos la CARDINALIDAD\n",
    "plot_cluster_cardinality(labels, # las labels que predijo nuestro modelo\n",
    "                         ax=ax1, # sobre que eje lo queremos hacer\n",
    "                         title=\"Cardinality\", # título de la gráfica\n",
    "                         color=cluster_colors # colores que vamos a querer usar\n",
    "                        )\n",
    "\n",
    "\n",
    "# ploteamos la MAGNITUD\n",
    "plot_cluster_magnitude(X, # el dataframe del que sacaremos los datos\n",
    "                       labels, # las labels que predijo nuestro modelo\n",
    "                       centroids, # los centroides de nuestros clusters\n",
    "                       euclidean, # la distancia que quiero usar para medir\n",
    "                       ax=ax2,\n",
    "                       title=\"Magnitude\",\n",
    "                       color=cluster_colors\n",
    "                      )\n",
    "\n",
    "# ploteamos la RELACIÓN ENTRE CARDINALIDAD Y MAGNITUD\n",
    "plot_magnitude_vs_cardinality(X,# el dataframe del que sacaremos los datos\n",
    "                              labels, # las labels que predijo nuestro modelo\n",
    "                              centroids, # los centroides de nuestros clusters\n",
    "                              euclidean,# la distancia\n",
    "                              color=cluster_colors,\n",
    "                              ax=ax3,\n",
    "                              title=\"Magnitude vs. Cardinality\")\n",
    "plt.tight_layout()\n",
    "plt.show()"
   ]
  },
  {
   "cell_type": "markdown",
   "metadata": {},
   "source": [
    "GAUSSIAN NAIVE BAYES"
   ]
  },
  {
   "cell_type": "code",
   "execution_count": 15,
   "metadata": {},
   "outputs": [],
   "source": [
    "model1 = GaussianNB()"
   ]
  },
  {
   "cell_type": "code",
   "execution_count": 16,
   "metadata": {},
   "outputs": [],
   "source": [
    "start_time = time.time()\n",
    "model1.fit(X_train, Y_train.values.ravel())\n",
    "end_time = time.time()"
   ]
  },
  {
   "cell_type": "code",
   "execution_count": 17,
   "metadata": {},
   "outputs": [
    {
     "name": "stdout",
     "output_type": "stream",
     "text": [
      "Gaussian Naive Bayes train time:  0.43008923530578613\n"
     ]
    }
   ],
   "source": [
    "gaussian_train_time = end_time - start_time\n",
    "print(\"Gaussian Naive Bayes train time: \", gaussian_train_time)"
   ]
  },
  {
   "cell_type": "code",
   "execution_count": 18,
   "metadata": {},
   "outputs": [],
   "source": [
    "start_time = time.time()\n",
    "Y_test_pred1 = model1.predict(X_test)\n",
    "end_time = time.time()"
   ]
  },
  {
   "cell_type": "code",
   "execution_count": 19,
   "metadata": {},
   "outputs": [
    {
     "name": "stdout",
     "output_type": "stream",
     "text": [
      "Gaussian Naive Bayes test time:  0.23118352890014648\n"
     ]
    }
   ],
   "source": [
    "gaussian_test_time = end_time - start_time\n",
    "print(\"Gaussian Naive Bayes test time: \", gaussian_test_time)"
   ]
  },
  {
   "cell_type": "code",
   "execution_count": 20,
   "metadata": {},
   "outputs": [
    {
     "name": "stdout",
     "output_type": "stream",
     "text": [
      "Train score is: 0.8465047704792232\n",
      "Test score is: 0.8462524612487502\n"
     ]
    }
   ],
   "source": [
    "print(\"Train score is:\", model1.score(X_train, Y_train))\n",
    "print(\"Test score is:\",model1.score(X_test,Y_test))"
   ]
  },
  {
   "cell_type": "markdown",
   "metadata": {},
   "source": [
    "DECISION TREE CLASSIFIER"
   ]
  },
  {
   "cell_type": "code",
   "execution_count": 21,
   "metadata": {},
   "outputs": [],
   "source": [
    "model2 = DecisionTreeClassifier(criterion=\"entropy\", max_depth = 4)"
   ]
  },
  {
   "cell_type": "code",
   "execution_count": 22,
   "metadata": {},
   "outputs": [],
   "source": [
    "start_time = time.time()\n",
    "model2.fit(X_train, Y_train.values.ravel())\n",
    "end_time = time.time()"
   ]
  },
  {
   "cell_type": "code",
   "execution_count": 23,
   "metadata": {},
   "outputs": [
    {
     "name": "stdout",
     "output_type": "stream",
     "text": [
      "Decision Tree train time:  0.7071378231048584\n"
     ]
    }
   ],
   "source": [
    "decision_train_time = end_time - start_time\n",
    "print(\"Decision Tree train time: \", decision_train_time)"
   ]
  },
  {
   "cell_type": "code",
   "execution_count": 24,
   "metadata": {},
   "outputs": [],
   "source": [
    "start_time = time.time()\n",
    "Y_test_pred2 = model2.predict(X_test)\n",
    "end_time = time.time()"
   ]
  },
  {
   "cell_type": "code",
   "execution_count": 25,
   "metadata": {},
   "outputs": [
    {
     "name": "stdout",
     "output_type": "stream",
     "text": [
      "Decision Tree test time:  0.021012067794799805\n"
     ]
    }
   ],
   "source": [
    "decision_test_time = end_time - start_time\n",
    "print(\"Decision Tree test time: \", decision_test_time)"
   ]
  },
  {
   "cell_type": "code",
   "execution_count": 26,
   "metadata": {},
   "outputs": [
    {
     "name": "stdout",
     "output_type": "stream",
     "text": [
      "Train score is: 0.9921720635419373\n",
      "Test score is: 0.9917743686628595\n"
     ]
    }
   ],
   "source": [
    "print(\"Train score is:\", model2.score(X_train, Y_train))\n",
    "print(\"Test score is:\",model2.score(X_test,Y_test))"
   ]
  },
  {
   "cell_type": "markdown",
   "metadata": {},
   "source": [
    "RANDOM FOREST CLASSIFIER"
   ]
  },
  {
   "cell_type": "code",
   "execution_count": 27,
   "metadata": {},
   "outputs": [],
   "source": [
    "model3 = RandomForestClassifier(n_estimators=30)"
   ]
  },
  {
   "cell_type": "code",
   "execution_count": 28,
   "metadata": {},
   "outputs": [],
   "source": [
    "start_time = time.time()\n",
    "model3.fit(X_train, Y_train.values.ravel())\n",
    "end_time = time.time()"
   ]
  },
  {
   "cell_type": "code",
   "execution_count": 29,
   "metadata": {},
   "outputs": [
    {
     "name": "stdout",
     "output_type": "stream",
     "text": [
      "Random Forest train time:  5.2392802238464355\n"
     ]
    }
   ],
   "source": [
    "random_forest_train_time = end_time - start_time\n",
    "print(\"Random Forest train time: \", random_forest_train_time)"
   ]
  },
  {
   "cell_type": "code",
   "execution_count": 30,
   "metadata": {},
   "outputs": [],
   "source": [
    "start_time = time.time()\n",
    "Y_test_pred3 = model3.predict(X_test)\n",
    "end_time = time.time()"
   ]
  },
  {
   "cell_type": "code",
   "execution_count": 31,
   "metadata": {},
   "outputs": [
    {
     "name": "stdout",
     "output_type": "stream",
     "text": [
      "Random Forest test time:  0.37461161613464355\n"
     ]
    }
   ],
   "source": [
    "random_forest_test_time = end_time - start_time\n",
    "print(\"Random Forest test time: \", random_forest_test_time)"
   ]
  },
  {
   "cell_type": "code",
   "execution_count": 32,
   "metadata": {},
   "outputs": [
    {
     "name": "stdout",
     "output_type": "stream",
     "text": [
      "Train score is: 0.9999456183495773\n",
      "Test score is: 0.9996319628037074\n"
     ]
    }
   ],
   "source": [
    "print(\"Train score is:\", model3.score(X_train, Y_train))\n",
    "print(\"Test score is:\",model3.score(X_test,Y_test))"
   ]
  },
  {
   "cell_type": "markdown",
   "metadata": {},
   "source": [
    "SUPPORT VECTOR MACHINE CLASSIFIER"
   ]
  },
  {
   "cell_type": "code",
   "execution_count": 33,
   "metadata": {},
   "outputs": [],
   "source": [
    "model4 = SVC(gamma = 'scale')"
   ]
  },
  {
   "cell_type": "code",
   "execution_count": 34,
   "metadata": {},
   "outputs": [],
   "source": [
    "start_time = time.time()\n",
    "model4.fit(X_train, Y_train.values.ravel())\n",
    "end_time = time.time()"
   ]
  },
  {
   "cell_type": "code",
   "execution_count": 35,
   "metadata": {},
   "outputs": [
    {
     "name": "stdout",
     "output_type": "stream",
     "text": [
      "Support Vector Machine train time:  110.46265864372253\n"
     ]
    }
   ],
   "source": [
    "vm_train_time = end_time - start_time\n",
    "print(\"Support Vector Machine train time: \", vm_train_time)"
   ]
  },
  {
   "cell_type": "code",
   "execution_count": 36,
   "metadata": {},
   "outputs": [],
   "source": [
    "start_time = time.time()\n",
    "Y_test_pred4 = model4.predict(X_test)\n",
    "end_time = time.time()"
   ]
  },
  {
   "cell_type": "code",
   "execution_count": 37,
   "metadata": {},
   "outputs": [
    {
     "name": "stdout",
     "output_type": "stream",
     "text": [
      "Support Vector Machine test time:  69.31428909301758\n"
     ]
    }
   ],
   "source": [
    "vm_test_time = end_time - start_time\n",
    "print(\"Support Vector Machine test time: \", vm_test_time)"
   ]
  },
  {
   "cell_type": "code",
   "execution_count": 38,
   "metadata": {},
   "outputs": [
    {
     "name": "stdout",
     "output_type": "stream",
     "text": [
      "Train score is: 0.993229484522378\n",
      "Test score is: 0.9932526514013016\n"
     ]
    }
   ],
   "source": [
    "print(\"Train score is:\", model4.score(X_train, Y_train))\n",
    "print(\"Test score is:\", model4.score(X_test,Y_test))"
   ]
  },
  {
   "cell_type": "markdown",
   "metadata": {},
   "source": [
    "LOGISTIC REGRESSION"
   ]
  },
  {
   "cell_type": "code",
   "execution_count": 39,
   "metadata": {},
   "outputs": [],
   "source": [
    "model5 = LogisticRegression(max_iter=1200000)"
   ]
  },
  {
   "cell_type": "code",
   "execution_count": 40,
   "metadata": {},
   "outputs": [],
   "source": [
    "start_time = time.time()\n",
    "model5.fit(X_train, Y_train.values.ravel())\n",
    "end_time = time.time()"
   ]
  },
  {
   "cell_type": "code",
   "execution_count": 41,
   "metadata": {},
   "outputs": [
    {
     "name": "stdout",
     "output_type": "stream",
     "text": [
      "Logistic Regression train time:  15.534477949142456\n"
     ]
    }
   ],
   "source": [
    "logistic_train_time = end_time - start_time\n",
    "print('Logistic Regression train time: ', logistic_train_time)"
   ]
  },
  {
   "cell_type": "code",
   "execution_count": 42,
   "metadata": {},
   "outputs": [],
   "source": [
    "start_time = time.time()\n",
    "Y_test_pred5 = model5.predict(X_test)\n",
    "end_time = time.time()"
   ]
  },
  {
   "cell_type": "code",
   "execution_count": 43,
   "metadata": {},
   "outputs": [
    {
     "name": "stdout",
     "output_type": "stream",
     "text": [
      "Logistic Regression test time:  0.026911497116088867\n"
     ]
    }
   ],
   "source": [
    "logistic_test_time = end_time - start_time\n",
    "print('Logistic Regression test time: ', logistic_test_time)"
   ]
  },
  {
   "cell_type": "code",
   "execution_count": 44,
   "metadata": {},
   "outputs": [
    {
     "name": "stdout",
     "output_type": "stream",
     "text": [
      "Train score is: 0.9913049783379759\n",
      "Test score is: 0.9913449919338514\n"
     ]
    }
   ],
   "source": [
    "print(\"Train score is:\", model5.score(X_train, Y_train))\n",
    "print(\"Test score is:\",model5.score(X_test,Y_test))"
   ]
  },
  {
   "cell_type": "markdown",
   "metadata": {},
   "source": [
    "GRADIENT BOOSTING CLASSIFIER"
   ]
  },
  {
   "cell_type": "code",
   "execution_count": 45,
   "metadata": {},
   "outputs": [],
   "source": [
    "model6 = GradientBoostingClassifier(random_state=0)"
   ]
  },
  {
   "cell_type": "code",
   "execution_count": 46,
   "metadata": {},
   "outputs": [],
   "source": [
    "start_time = time.time()\n",
    "model6.fit(X_train, Y_train.values.ravel())\n",
    "end_time = time.time()"
   ]
  },
  {
   "cell_type": "code",
   "execution_count": 47,
   "metadata": {},
   "outputs": [
    {
     "name": "stdout",
     "output_type": "stream",
     "text": [
      "Gradient Boosting train time:  459.151593208313\n"
     ]
    }
   ],
   "source": [
    "gradient_train_time = end_time - start_time\n",
    "print('Gradient Boosting train time: ', gradient_train_time)"
   ]
  },
  {
   "cell_type": "code",
   "execution_count": 48,
   "metadata": {},
   "outputs": [],
   "source": [
    "start_time = time.time()\n",
    "Y_test_pred6 = model6.predict(X_test)\n",
    "end_time = time.time()"
   ]
  },
  {
   "cell_type": "code",
   "execution_count": 49,
   "metadata": {},
   "outputs": [
    {
     "name": "stdout",
     "output_type": "stream",
     "text": [
      "Gradient Boosting test time:  1.0803427696228027\n"
     ]
    }
   ],
   "source": [
    "gradient_test_time = end_time - start_time\n",
    "print('Gradient Boosting test time: ', gradient_test_time)"
   ]
  },
  {
   "cell_type": "code",
   "execution_count": 50,
   "metadata": {},
   "outputs": [
    {
     "name": "stdout",
     "output_type": "stream",
     "text": [
      "Train score is: 0.9989093457887455\n",
      "Test score is: 0.9987302716727904\n"
     ]
    }
   ],
   "source": [
    "print(\"Train score is:\", model6.score(X_train, Y_train))\n",
    "print(\"Test score is:\", model6.score(X_test,Y_test))"
   ]
  },
  {
   "cell_type": "markdown",
   "metadata": {},
   "source": [
    "ARTIFICIAL NEURAL NETWORK"
   ]
  },
  {
   "cell_type": "code",
   "execution_count": 51,
   "metadata": {},
   "outputs": [],
   "source": [
    "def fun():\n",
    "    model = Sequential()\n",
    "    \n",
    "    #here 28 is input dimension\n",
    "    model.add(Dense(28, input_dim =28, activation = 'relu', kernel_initializer='random_uniform'))\n",
    "    \n",
    "    #in next layer we do not specify the input_dim as the model is sequential so output of previous layer is input to next layer\n",
    "    model.add(Dense(1, activation='sigmoid', kernel_initializer='random_uniform'))\n",
    "    \n",
    "    #5 classes-normal,dos,probe,r2l,u2r\n",
    "    model.add(Dense(5, activation='softmax'))\n",
    "    \n",
    "    #loss is categorical_crossentropy which specifies that we have multiple classes\n",
    "    model.compile(loss ='categorical_crossentropy', optimizer = 'adam', metrics = ['accuracy'])\n",
    "    \n",
    "    return model"
   ]
  },
  {
   "cell_type": "code",
   "execution_count": 52,
   "metadata": {},
   "outputs": [],
   "source": [
    "model7 = KerasClassifier(build_fn=fun, epochs=100, batch_size=64)"
   ]
  },
  {
   "cell_type": "code",
   "execution_count": 53,
   "metadata": {},
   "outputs": [
    {
     "name": "stdout",
     "output_type": "stream",
     "text": [
      "Epoch 1/100\n",
      "5172/5172 [==============================] - 4s 785us/step - loss: 0.2900 - accuracy: 0.9324\n",
      "Epoch 2/100\n",
      "5172/5172 [==============================] - 4s 796us/step - loss: 0.0817 - accuracy: 0.9842\n",
      "Epoch 3/100\n",
      "5172/5172 [==============================] - 4s 772us/step - loss: 0.0719 - accuracy: 0.9845\n",
      "Epoch 4/100\n",
      "5172/5172 [==============================] - 4s 755us/step - loss: 0.0679 - accuracy: 0.9846\n",
      "Epoch 5/100\n",
      "5172/5172 [==============================] - 4s 750us/step - loss: 0.0628 - accuracy: 0.9846\n",
      "Epoch 6/100\n",
      "5172/5172 [==============================] - 4s 754us/step - loss: 0.0606 - accuracy: 0.9846\n",
      "Epoch 7/100\n",
      "5172/5172 [==============================] - 4s 764us/step - loss: 0.0588 - accuracy: 0.9846\n",
      "Epoch 8/100\n",
      "5172/5172 [==============================] - 4s 753us/step - loss: 0.0576 - accuracy: 0.9846\n",
      "Epoch 9/100\n",
      "5172/5172 [==============================] - 4s 748us/step - loss: 0.0567 - accuracy: 0.9846\n",
      "Epoch 10/100\n",
      "5172/5172 [==============================] - 4s 755us/step - loss: 0.0559 - accuracy: 0.9846\n",
      "Epoch 11/100\n",
      "5172/5172 [==============================] - 4s 752us/step - loss: 0.0553 - accuracy: 0.9846\n",
      "Epoch 12/100\n",
      "5172/5172 [==============================] - 4s 765us/step - loss: 0.0547 - accuracy: 0.9846\n",
      "Epoch 13/100\n",
      "5172/5172 [==============================] - 4s 772us/step - loss: 0.0543 - accuracy: 0.9846\n",
      "Epoch 14/100\n",
      "5172/5172 [==============================] - 4s 758us/step - loss: 0.0539 - accuracy: 0.9846\n",
      "Epoch 15/100\n",
      "5172/5172 [==============================] - 4s 767us/step - loss: 0.0535 - accuracy: 0.9847\n",
      "Epoch 16/100\n",
      "5172/5172 [==============================] - 4s 756us/step - loss: 0.0531 - accuracy: 0.9849\n",
      "Epoch 17/100\n",
      "5172/5172 [==============================] - 4s 758us/step - loss: 0.0526 - accuracy: 0.9850\n",
      "Epoch 18/100\n",
      "5172/5172 [==============================] - 4s 760us/step - loss: 0.0519 - accuracy: 0.9851\n",
      "Epoch 19/100\n",
      "5172/5172 [==============================] - 4s 753us/step - loss: 0.0513 - accuracy: 0.9854\n",
      "Epoch 20/100\n",
      "5172/5172 [==============================] - 4s 866us/step - loss: 0.0509 - accuracy: 0.9856\n",
      "Epoch 21/100\n",
      "5172/5172 [==============================] - 4s 865us/step - loss: 0.0505 - accuracy: 0.9861\n",
      "Epoch 22/100\n",
      "5172/5172 [==============================] - 4s 847us/step - loss: 0.0501 - accuracy: 0.9861\n",
      "Epoch 23/100\n",
      "5172/5172 [==============================] - 4s 841us/step - loss: 0.0497 - accuracy: 0.9862\n",
      "Epoch 24/100\n",
      "5172/5172 [==============================] - 4s 859us/step - loss: 0.0478 - accuracy: 0.9860\n",
      "Epoch 25/100\n",
      "5172/5172 [==============================] - 5s 900us/step - loss: 0.0464 - accuracy: 0.9867\n",
      "Epoch 26/100\n",
      "5172/5172 [==============================] - 4s 832us/step - loss: 0.0453 - accuracy: 0.9886\n",
      "Epoch 27/100\n",
      "5172/5172 [==============================] - 4s 857us/step - loss: 0.0443 - accuracy: 0.9888\n",
      "Epoch 28/100\n",
      "5172/5172 [==============================] - 4s 844us/step - loss: 0.0432 - accuracy: 0.9897\n",
      "Epoch 29/100\n",
      "5172/5172 [==============================] - 4s 845us/step - loss: 0.0415 - accuracy: 0.9888\n",
      "Epoch 30/100\n",
      "5172/5172 [==============================] - 4s 848us/step - loss: 0.0394 - accuracy: 0.9891\n",
      "Epoch 31/100\n",
      "5172/5172 [==============================] - 4s 841us/step - loss: 0.0370 - accuracy: 0.9899\n",
      "Epoch 32/100\n",
      "5172/5172 [==============================] - 4s 841us/step - loss: 0.0349 - accuracy: 0.9913\n",
      "Epoch 33/100\n",
      "5172/5172 [==============================] - 4s 829us/step - loss: 0.0329 - accuracy: 0.9920\n",
      "Epoch 34/100\n",
      "5172/5172 [==============================] - 4s 839us/step - loss: 0.0310 - accuracy: 0.9920\n",
      "Epoch 35/100\n",
      "5172/5172 [==============================] - 4s 837us/step - loss: 0.0294 - accuracy: 0.9925\n",
      "Epoch 36/100\n",
      "5172/5172 [==============================] - 4s 836us/step - loss: 0.0278 - accuracy: 0.9926\n",
      "Epoch 37/100\n",
      "5172/5172 [==============================] - 4s 838us/step - loss: 0.0266 - accuracy: 0.9928\n",
      "Epoch 38/100\n",
      "5172/5172 [==============================] - 4s 855us/step - loss: 0.0255 - accuracy: 0.9930\n",
      "Epoch 39/100\n",
      "5172/5172 [==============================] - 4s 840us/step - loss: 0.0244 - accuracy: 0.9932\n",
      "Epoch 40/100\n",
      "5172/5172 [==============================] - 4s 834us/step - loss: 0.0233 - accuracy: 0.9935\n",
      "Epoch 41/100\n",
      "5172/5172 [==============================] - 4s 867us/step - loss: 0.0224 - accuracy: 0.9941\n",
      "Epoch 42/100\n",
      "5172/5172 [==============================] - 4s 847us/step - loss: 0.0215 - accuracy: 0.9945\n",
      "Epoch 43/100\n",
      "5172/5172 [==============================] - 4s 842us/step - loss: 0.0207 - accuracy: 0.9949\n",
      "Epoch 44/100\n",
      "5172/5172 [==============================] - 4s 849us/step - loss: 0.0196 - accuracy: 0.9956\n",
      "Epoch 45/100\n",
      "5172/5172 [==============================] - 4s 833us/step - loss: 0.0188 - accuracy: 0.9959\n",
      "Epoch 46/100\n",
      "5172/5172 [==============================] - 4s 832us/step - loss: 0.0177 - accuracy: 0.9963\n",
      "Epoch 47/100\n",
      "5172/5172 [==============================] - 4s 824us/step - loss: 0.0167 - accuracy: 0.9965\n",
      "Epoch 48/100\n",
      "5172/5172 [==============================] - 4s 849us/step - loss: 0.0158 - accuracy: 0.9966\n",
      "Epoch 49/100\n",
      "5172/5172 [==============================] - 4s 841us/step - loss: 0.0152 - accuracy: 0.9966\n",
      "Epoch 50/100\n",
      "5172/5172 [==============================] - 4s 838us/step - loss: 0.0147 - accuracy: 0.9967\n",
      "Epoch 51/100\n",
      "5172/5172 [==============================] - 4s 833us/step - loss: 0.0141 - accuracy: 0.9967\n",
      "Epoch 52/100\n",
      "5172/5172 [==============================] - 4s 832us/step - loss: 0.0137 - accuracy: 0.9967\n",
      "Epoch 53/100\n",
      "5172/5172 [==============================] - 4s 832us/step - loss: 0.0132 - accuracy: 0.9967\n",
      "Epoch 54/100\n",
      "5172/5172 [==============================] - 4s 853us/step - loss: 0.0130 - accuracy: 0.9968\n",
      "Epoch 55/100\n",
      "5172/5172 [==============================] - 4s 836us/step - loss: 0.0125 - accuracy: 0.9968\n",
      "Epoch 56/100\n",
      "5172/5172 [==============================] - 4s 840us/step - loss: 0.0124 - accuracy: 0.9968\n",
      "Epoch 57/100\n",
      "5172/5172 [==============================] - 4s 827us/step - loss: 0.0122 - accuracy: 0.9968\n",
      "Epoch 58/100\n",
      "5172/5172 [==============================] - 4s 837us/step - loss: 0.0120 - accuracy: 0.9968\n",
      "Epoch 59/100\n",
      "5172/5172 [==============================] - 4s 850us/step - loss: 0.0118 - accuracy: 0.9968\n",
      "Epoch 60/100\n",
      "5172/5172 [==============================] - 5s 875us/step - loss: 0.0115 - accuracy: 0.9969\n",
      "Epoch 61/100\n",
      "5172/5172 [==============================] - 4s 844us/step - loss: 0.0116 - accuracy: 0.9969\n",
      "Epoch 62/100\n",
      "5172/5172 [==============================] - 4s 852us/step - loss: 0.0114 - accuracy: 0.9969\n",
      "Epoch 63/100\n",
      "5172/5172 [==============================] - 4s 845us/step - loss: 0.0114 - accuracy: 0.9969\n",
      "Epoch 64/100\n",
      "5172/5172 [==============================] - 5s 888us/step - loss: 0.0111 - accuracy: 0.9969\n",
      "Epoch 65/100\n",
      "5172/5172 [==============================] - 4s 854us/step - loss: 0.0111 - accuracy: 0.9970\n",
      "Epoch 66/100\n",
      "5172/5172 [==============================] - 4s 829us/step - loss: 0.0108 - accuracy: 0.9970\n",
      "Epoch 67/100\n",
      "5172/5172 [==============================] - 4s 826us/step - loss: 0.0109 - accuracy: 0.9971\n",
      "Epoch 68/100\n",
      "5172/5172 [==============================] - 5s 905us/step - loss: 0.0108 - accuracy: 0.9972\n",
      "Epoch 69/100\n",
      "5172/5172 [==============================] - 4s 859us/step - loss: 0.0107 - accuracy: 0.9973\n",
      "Epoch 70/100\n",
      "5172/5172 [==============================] - 4s 841us/step - loss: 0.0106 - accuracy: 0.9974\n",
      "Epoch 71/100\n",
      "5172/5172 [==============================] - 4s 839us/step - loss: 0.0106 - accuracy: 0.9975\n",
      "Epoch 72/100\n",
      "5172/5172 [==============================] - 4s 820us/step - loss: 0.0107 - accuracy: 0.9975\n",
      "Epoch 73/100\n",
      "5172/5172 [==============================] - 4s 835us/step - loss: 0.0105 - accuracy: 0.9976\n",
      "Epoch 74/100\n",
      "5172/5172 [==============================] - 4s 862us/step - loss: 0.0103 - accuracy: 0.9976\n",
      "Epoch 75/100\n",
      "5172/5172 [==============================] - 4s 861us/step - loss: 0.0105 - accuracy: 0.9977\n",
      "Epoch 76/100\n",
      "5172/5172 [==============================] - 4s 863us/step - loss: 0.0102 - accuracy: 0.9978\n",
      "Epoch 77/100\n",
      "5172/5172 [==============================] - 4s 843us/step - loss: 0.0103 - accuracy: 0.9978\n",
      "Epoch 78/100\n",
      "5172/5172 [==============================] - 4s 866us/step - loss: 0.0103 - accuracy: 0.9978\n",
      "Epoch 79/100\n",
      "5172/5172 [==============================] - 4s 855us/step - loss: 0.0102 - accuracy: 0.9978\n",
      "Epoch 80/100\n",
      "5172/5172 [==============================] - 4s 844us/step - loss: 0.0101 - accuracy: 0.9979\n",
      "Epoch 81/100\n",
      "5172/5172 [==============================] - 4s 855us/step - loss: 0.0101 - accuracy: 0.9979\n",
      "Epoch 82/100\n",
      "5172/5172 [==============================] - 4s 845us/step - loss: 0.0099 - accuracy: 0.9979\n",
      "Epoch 83/100\n",
      "5172/5172 [==============================] - 4s 859us/step - loss: 0.0101 - accuracy: 0.9979\n",
      "Epoch 84/100\n",
      "5172/5172 [==============================] - 4s 863us/step - loss: 0.0100 - accuracy: 0.9979\n",
      "Epoch 85/100\n",
      "5172/5172 [==============================] - 4s 838us/step - loss: 0.0099 - accuracy: 0.9978\n",
      "Epoch 86/100\n",
      "5172/5172 [==============================] - 4s 857us/step - loss: 0.0101 - accuracy: 0.9979\n",
      "Epoch 87/100\n",
      "5172/5172 [==============================] - 4s 860us/step - loss: 0.0098 - accuracy: 0.9980\n",
      "Epoch 88/100\n",
      "5172/5172 [==============================] - 4s 849us/step - loss: 0.0100 - accuracy: 0.9979\n",
      "Epoch 89/100\n",
      "5172/5172 [==============================] - 4s 865us/step - loss: 0.0098 - accuracy: 0.9980\n",
      "Epoch 90/100\n",
      "5172/5172 [==============================] - 4s 863us/step - loss: 0.0098 - accuracy: 0.9981\n",
      "Epoch 91/100\n",
      "5172/5172 [==============================] - 4s 851us/step - loss: 0.0098 - accuracy: 0.9980\n",
      "Epoch 92/100\n",
      "5172/5172 [==============================] - 4s 851us/step - loss: 0.0098 - accuracy: 0.9979\n",
      "Epoch 93/100\n",
      "5172/5172 [==============================] - 4s 854us/step - loss: 0.0097 - accuracy: 0.9980\n",
      "Epoch 94/100\n",
      "5172/5172 [==============================] - 4s 861us/step - loss: 0.0097 - accuracy: 0.9981\n",
      "Epoch 95/100\n",
      "5172/5172 [==============================] - 4s 848us/step - loss: 0.0097 - accuracy: 0.9980\n",
      "Epoch 96/100\n",
      "5172/5172 [==============================] - 4s 858us/step - loss: 0.0096 - accuracy: 0.9981\n",
      "Epoch 97/100\n",
      "5172/5172 [==============================] - 4s 853us/step - loss: 0.0098 - accuracy: 0.9981\n",
      "Epoch 98/100\n",
      "5172/5172 [==============================] - 4s 862us/step - loss: 0.0097 - accuracy: 0.9980\n",
      "Epoch 99/100\n",
      "5172/5172 [==============================] - 4s 846us/step - loss: 0.0096 - accuracy: 0.9980\n",
      "Epoch 100/100\n",
      "5172/5172 [==============================] - 4s 869us/step - loss: 0.0095 - accuracy: 0.9981\n"
     ]
    }
   ],
   "source": [
    "start = time.time()\n",
    "model7.fit(X_train, Y_train.values.ravel())\n",
    "end = time.time()"
   ]
  },
  {
   "cell_type": "code",
   "execution_count": 54,
   "metadata": {},
   "outputs": [
    {
     "name": "stdout",
     "output_type": "stream",
     "text": [
      "Neural Network train time:  432.69571471214294\n"
     ]
    }
   ],
   "source": [
    "nn_train_time = end - start\n",
    "print('Neural Network train time: ', nn_train_time)"
   ]
  },
  {
   "cell_type": "code",
   "execution_count": 55,
   "metadata": {},
   "outputs": [
    {
     "name": "stdout",
     "output_type": "stream",
     "text": [
      "5095/5095 [==============================] - 3s 562us/step\n"
     ]
    }
   ],
   "source": [
    "start_time = time.time()\n",
    "Y_test_pred7 = model7.predict(X_test)\n",
    "end_time = time.time()"
   ]
  },
  {
   "cell_type": "code",
   "execution_count": 56,
   "metadata": {},
   "outputs": [
    {
     "name": "stdout",
     "output_type": "stream",
     "text": [
      "Neural Network test time:  3.596223831176758\n"
     ]
    }
   ],
   "source": [
    "nn_test_time = end_time - start_time\n",
    "print('Neural Network test time: ', nn_test_time)"
   ]
  },
  {
   "cell_type": "code",
   "execution_count": 57,
   "metadata": {},
   "outputs": [
    {
     "data": {
      "text/plain": [
       "1.0"
      ]
     },
     "execution_count": 57,
     "metadata": {},
     "output_type": "execute_result"
    }
   ],
   "source": [
    "accuracy_score(Y_train, Y_train.values.ravel())"
   ]
  },
  {
   "cell_type": "code",
   "execution_count": 58,
   "metadata": {},
   "outputs": [
    {
     "data": {
      "text/plain": [
       "0.9980678047194637"
      ]
     },
     "execution_count": 58,
     "metadata": {},
     "output_type": "execute_result"
    }
   ],
   "source": [
    "accuracy_score(Y_test,Y_test_pred7)"
   ]
  },
  {
   "cell_type": "markdown",
   "metadata": {},
   "source": [
    "Training accuracy"
   ]
  },
  {
   "cell_type": "code",
   "execution_count": 59,
   "metadata": {},
   "outputs": [
    {
     "data": {
      "text/plain": [
       "<BarContainer object of 7 artists>"
      ]
     },
     "execution_count": 59,
     "metadata": {},
     "output_type": "execute_result"
    },
    {
     "data": {
      "image/png": "[encoded data removed]",
      "text/plain": [
       "<Figure size 1080x216 with 1 Axes>"
      ]
     },
     "metadata": {},
     "output_type": "display_data"
    }
   ],
   "source": [
    "names = ['NB','DT','RF','SVM','LR','GB','ANN']\n",
    "values = [model1.score(X_train, Y_train), model2.score(X_train, Y_train), model3.score(X_train, Y_train),\n",
    "          model4.score(X_train, Y_train), model5.score(X_train, Y_train), model6.score(X_train, Y_train),\n",
    "          accuracy_score(Y_train, Y_train.values.ravel())]\n",
    "f = plt.figure(figsize=(15,3),num=10)\n",
    "plt.subplot(131)\n",
    "plt.ylim(80,102)\n",
    "plt.bar(names,values)"
   ]
  },
  {
   "cell_type": "code",
   "execution_count": 67,
   "metadata": {},
   "outputs": [],
   "source": [
    "def save_scaler(amount, filename = \"scaler.pkl\"): \n",
    "    with open(filename, \"wb\") as f:\n",
    "        pickle.dump(amount, f)\n",
    "\n",
    "save_scaler(model6, filename=\"models/6_gb.pkl\")"
   ]
  },
  {
   "cell_type": "code",
   "execution_count": 70,
   "metadata": {},
   "outputs": [],
   "source": [
    "model_json = model7.model.to_json()"
   ]
  },
  {
   "cell_type": "code",
   "execution_count": 79,
   "metadata": {},
   "outputs": [
    {
     "name": "stdout",
     "output_type": "stream",
     "text": [
      "Saved model to disk\n"
     ]
    }
   ],
   "source": [
    "# serialize model to JSON\n",
    "model_json = model7.model.to_json()\n",
    "with open(\"models/model7.json\", \"w\") as json_file:\n",
    "    json_file.write(model_json)\n",
    "# serialize weights to HDF5\n",
    "model7.model.save_weights(\"models/model7.h5\")\n",
    "print(\"Saved model to disk\")"
   ]
  },
  {
   "cell_type": "code",
   "execution_count": 77,
   "metadata": {},
   "outputs": [],
   "source": [
    "from keras.models import model_from_json"
   ]
  },
  {
   "cell_type": "code",
   "execution_count": 83,
   "metadata": {},
   "outputs": [],
   "source": [
    "from keras.models import load_model"
   ]
  },
  {
   "cell_type": "code",
   "execution_count": null,
   "metadata": {},
   "outputs": [],
   "source": [
    "# later...\n",
    "\n",
    "# load json and create model\n",
    "json_file = open('models/model7.json', 'r')\n",
    "loaded_model_json = json_file.read()\n",
    "json_file.close()\n",
    "loaded_model = model_from_json(loaded_model_json)\n",
    "# load weights into new model\n",
    "loaded_model.load_weights(\"models/model7.h5\")\n",
    "print(\"Loaded model from disk\")\n",
    "\n",
    "# evaluate loaded model on test data\n",
    "loaded_model.compile(loss='binary_crossentropy', optimizer='rmsprop', metrics=['accuracy'])\n",
    "score = loaded_model.evaluate(X, Y, verbose=0)\n",
    "print(\"%s: %.2f%%\" % (loaded_model.metrics_names[1], score[1]*100))"
   ]
  },
  {
   "cell_type": "code",
   "execution_count": 82,
   "metadata": {},
   "outputs": [
    {
     "name": "stdout",
     "output_type": "stream",
     "text": [
      "Saved model to disk\n"
     ]
    }
   ],
   "source": [
    "model7.model.save(\"model7.h5\")\n",
    "print(\"Saved model to disk\")"
   ]
  },
  {
   "cell_type": "code",
   "execution_count": 91,
   "metadata": {},
   "outputs": [
    {
     "name": "stdout",
     "output_type": "stream",
     "text": [
      "Model: \"sequential\"\n",
      "_________________________________________________________________\n",
      " Layer (type)                Output Shape              Param #   \n",
      "=================================================================\n",
      " dense (Dense)               (None, 28)                812       \n",
      "                                                                 \n",
      " dense_1 (Dense)             (None, 1)                 29        \n",
      "                                                                 \n",
      " dense_2 (Dense)             (None, 5)                 10        \n",
      "                                                                 \n",
      "=================================================================\n",
      "Total params: 851\n",
      "Trainable params: 851\n",
      "Non-trainable params: 0\n",
      "_________________________________________________________________\n"
     ]
    },
    {
     "ename": "ValueError",
     "evalue": "in user code:\n\n    File \"c:\\Users\\mituc\\anaconda3\\envs\\py39\\lib\\site-packages\\keras\\engine\\training.py\", line 1557, in test_function  *\n        return step_function(self, iterator)\n    File \"c:\\Users\\mituc\\anaconda3\\envs\\py39\\lib\\site-packages\\keras\\engine\\training.py\", line 1546, in step_function  **\n        outputs = model.distribute_strategy.run(run_step, args=(data,))\n    File \"c:\\Users\\mituc\\anaconda3\\envs\\py39\\lib\\site-packages\\keras\\engine\\training.py\", line 1535, in run_step  **\n        outputs = model.test_step(data)\n    File \"c:\\Users\\mituc\\anaconda3\\envs\\py39\\lib\\site-packages\\keras\\engine\\training.py\", line 1501, in test_step\n        self.compute_loss(x, y, y_pred, sample_weight)\n    File \"c:\\Users\\mituc\\anaconda3\\envs\\py39\\lib\\site-packages\\keras\\engine\\training.py\", line 948, in compute_loss\n        return self.compiled_loss(\n    File \"c:\\Users\\mituc\\anaconda3\\envs\\py39\\lib\\site-packages\\keras\\engine\\compile_utils.py\", line 201, in __call__\n        loss_value = loss_obj(y_t, y_p, sample_weight=sw)\n    File \"c:\\Users\\mituc\\anaconda3\\envs\\py39\\lib\\site-packages\\keras\\losses.py\", line 139, in __call__\n        losses = call_fn(y_true, y_pred)\n    File \"c:\\Users\\mituc\\anaconda3\\envs\\py39\\lib\\site-packages\\keras\\losses.py\", line 243, in call  **\n        return ag_fn(y_true, y_pred, **self._fn_kwargs)\n    File \"c:\\Users\\mituc\\anaconda3\\envs\\py39\\lib\\site-packages\\keras\\losses.py\", line 1787, in categorical_crossentropy\n        return backend.categorical_crossentropy(\n    File \"c:\\Users\\mituc\\anaconda3\\envs\\py39\\lib\\site-packages\\keras\\backend.py\", line 5119, in categorical_crossentropy\n        target.shape.assert_is_compatible_with(output.shape)\n\n    ValueError: Shapes (None, 1) and (None, 5) are incompatible\n",
     "output_type": "error",
     "traceback": [
      "\u001b[1;31m---------------------------------------------------------------------------\u001b[0m",
      "\u001b[1;31mValueError\u001b[0m                                Traceback (most recent call last)",
      "\u001b[1;32m~\\AppData\\Local\\Temp/ipykernel_9752/385290001.py\u001b[0m in \u001b[0;36m<module>\u001b[1;34m\u001b[0m\n\u001b[0;32m      9\u001b[0m \u001b[1;31m#Y = dataset[:8]\u001b[0m\u001b[1;33m\u001b[0m\u001b[1;33m\u001b[0m\u001b[0m\n\u001b[0;32m     10\u001b[0m \u001b[1;31m# evaluate the model\u001b[0m\u001b[1;33m\u001b[0m\u001b[1;33m\u001b[0m\u001b[0m\n\u001b[1;32m---> 11\u001b[1;33m \u001b[0mscore\u001b[0m \u001b[1;33m=\u001b[0m \u001b[0mmodel\u001b[0m\u001b[1;33m.\u001b[0m\u001b[0mevaluate\u001b[0m\u001b[1;33m(\u001b[0m\u001b[0mX\u001b[0m\u001b[1;33m,\u001b[0m \u001b[0mY\u001b[0m\u001b[1;33m,\u001b[0m \u001b[0mverbose\u001b[0m\u001b[1;33m=\u001b[0m\u001b[1;36m0\u001b[0m\u001b[1;33m)\u001b[0m\u001b[1;33m\u001b[0m\u001b[1;33m\u001b[0m\u001b[0m\n\u001b[0m\u001b[0;32m     12\u001b[0m \u001b[0mprint\u001b[0m\u001b[1;33m(\u001b[0m\u001b[1;34m\"%s: %.2f%%\"\u001b[0m \u001b[1;33m%\u001b[0m \u001b[1;33m(\u001b[0m\u001b[0mmodel\u001b[0m\u001b[1;33m.\u001b[0m\u001b[0mmetrics_names\u001b[0m\u001b[1;33m[\u001b[0m\u001b[1;36m1\u001b[0m\u001b[1;33m]\u001b[0m\u001b[1;33m,\u001b[0m \u001b[0mscore\u001b[0m\u001b[1;33m[\u001b[0m\u001b[1;36m1\u001b[0m\u001b[1;33m]\u001b[0m\u001b[1;33m*\u001b[0m\u001b[1;36m100\u001b[0m\u001b[1;33m)\u001b[0m\u001b[1;33m)\u001b[0m\u001b[1;33m\u001b[0m\u001b[1;33m\u001b[0m\u001b[0m\n",
      "\u001b[1;32mc:\\Users\\mituc\\anaconda3\\envs\\py39\\lib\\site-packages\\keras\\utils\\traceback_utils.py\u001b[0m in \u001b[0;36merror_handler\u001b[1;34m(*args, **kwargs)\u001b[0m\n\u001b[0;32m     65\u001b[0m     \u001b[1;32mexcept\u001b[0m \u001b[0mException\u001b[0m \u001b[1;32mas\u001b[0m \u001b[0me\u001b[0m\u001b[1;33m:\u001b[0m  \u001b[1;31m# pylint: disable=broad-except\u001b[0m\u001b[1;33m\u001b[0m\u001b[1;33m\u001b[0m\u001b[0m\n\u001b[0;32m     66\u001b[0m       \u001b[0mfiltered_tb\u001b[0m \u001b[1;33m=\u001b[0m \u001b[0m_process_traceback_frames\u001b[0m\u001b[1;33m(\u001b[0m\u001b[0me\u001b[0m\u001b[1;33m.\u001b[0m\u001b[0m__traceback__\u001b[0m\u001b[1;33m)\u001b[0m\u001b[1;33m\u001b[0m\u001b[1;33m\u001b[0m\u001b[0m\n\u001b[1;32m---> 67\u001b[1;33m       \u001b[1;32mraise\u001b[0m \u001b[0me\u001b[0m\u001b[1;33m.\u001b[0m\u001b[0mwith_traceback\u001b[0m\u001b[1;33m(\u001b[0m\u001b[0mfiltered_tb\u001b[0m\u001b[1;33m)\u001b[0m \u001b[1;32mfrom\u001b[0m \u001b[1;32mNone\u001b[0m\u001b[1;33m\u001b[0m\u001b[1;33m\u001b[0m\u001b[0m\n\u001b[0m\u001b[0;32m     68\u001b[0m     \u001b[1;32mfinally\u001b[0m\u001b[1;33m:\u001b[0m\u001b[1;33m\u001b[0m\u001b[1;33m\u001b[0m\u001b[0m\n\u001b[0;32m     69\u001b[0m       \u001b[1;32mdel\u001b[0m \u001b[0mfiltered_tb\u001b[0m\u001b[1;33m\u001b[0m\u001b[1;33m\u001b[0m\u001b[0m\n",
      "\u001b[1;32mc:\\Users\\mituc\\anaconda3\\envs\\py39\\lib\\site-packages\\keras\\engine\\training.py\u001b[0m in \u001b[0;36mtf__test_function\u001b[1;34m(iterator)\u001b[0m\n\u001b[0;32m     13\u001b[0m                 \u001b[1;32mtry\u001b[0m\u001b[1;33m:\u001b[0m\u001b[1;33m\u001b[0m\u001b[1;33m\u001b[0m\u001b[0m\n\u001b[0;32m     14\u001b[0m                     \u001b[0mdo_return\u001b[0m \u001b[1;33m=\u001b[0m \u001b[1;32mTrue\u001b[0m\u001b[1;33m\u001b[0m\u001b[1;33m\u001b[0m\u001b[0m\n\u001b[1;32m---> 15\u001b[1;33m                     \u001b[0mretval_\u001b[0m \u001b[1;33m=\u001b[0m \u001b[0mag__\u001b[0m\u001b[1;33m.\u001b[0m\u001b[0mconverted_call\u001b[0m\u001b[1;33m(\u001b[0m\u001b[0mag__\u001b[0m\u001b[1;33m.\u001b[0m\u001b[0mld\u001b[0m\u001b[1;33m(\u001b[0m\u001b[0mstep_function\u001b[0m\u001b[1;33m)\u001b[0m\u001b[1;33m,\u001b[0m \u001b[1;33m(\u001b[0m\u001b[0mag__\u001b[0m\u001b[1;33m.\u001b[0m\u001b[0mld\u001b[0m\u001b[1;33m(\u001b[0m\u001b[0mself\u001b[0m\u001b[1;33m)\u001b[0m\u001b[1;33m,\u001b[0m \u001b[0mag__\u001b[0m\u001b[1;33m.\u001b[0m\u001b[0mld\u001b[0m\u001b[1;33m(\u001b[0m\u001b[0miterator\u001b[0m\u001b[1;33m)\u001b[0m\u001b[1;33m)\u001b[0m\u001b[1;33m,\u001b[0m \u001b[1;32mNone\u001b[0m\u001b[1;33m,\u001b[0m \u001b[0mfscope\u001b[0m\u001b[1;33m)\u001b[0m\u001b[1;33m\u001b[0m\u001b[1;33m\u001b[0m\u001b[0m\n\u001b[0m\u001b[0;32m     16\u001b[0m                 \u001b[1;32mexcept\u001b[0m\u001b[1;33m:\u001b[0m\u001b[1;33m\u001b[0m\u001b[1;33m\u001b[0m\u001b[0m\n\u001b[0;32m     17\u001b[0m                     \u001b[0mdo_return\u001b[0m \u001b[1;33m=\u001b[0m \u001b[1;32mFalse\u001b[0m\u001b[1;33m\u001b[0m\u001b[1;33m\u001b[0m\u001b[0m\n",
      "\u001b[1;31mValueError\u001b[0m: in user code:\n\n    File \"c:\\Users\\mituc\\anaconda3\\envs\\py39\\lib\\site-packages\\keras\\engine\\training.py\", line 1557, in test_function  *\n        return step_function(self, iterator)\n    File \"c:\\Users\\mituc\\anaconda3\\envs\\py39\\lib\\site-packages\\keras\\engine\\training.py\", line 1546, in step_function  **\n        outputs = model.distribute_strategy.run(run_step, args=(data,))\n    File \"c:\\Users\\mituc\\anaconda3\\envs\\py39\\lib\\site-packages\\keras\\engine\\training.py\", line 1535, in run_step  **\n        outputs = model.test_step(data)\n    File \"c:\\Users\\mituc\\anaconda3\\envs\\py39\\lib\\site-packages\\keras\\engine\\training.py\", line 1501, in test_step\n        self.compute_loss(x, y, y_pred, sample_weight)\n    File \"c:\\Users\\mituc\\anaconda3\\envs\\py39\\lib\\site-packages\\keras\\engine\\training.py\", line 948, in compute_loss\n        return self.compiled_loss(\n    File \"c:\\Users\\mituc\\anaconda3\\envs\\py39\\lib\\site-packages\\keras\\engine\\compile_utils.py\", line 201, in __call__\n        loss_value = loss_obj(y_t, y_p, sample_weight=sw)\n    File \"c:\\Users\\mituc\\anaconda3\\envs\\py39\\lib\\site-packages\\keras\\losses.py\", line 139, in __call__\n        losses = call_fn(y_true, y_pred)\n    File \"c:\\Users\\mituc\\anaconda3\\envs\\py39\\lib\\site-packages\\keras\\losses.py\", line 243, in call  **\n        return ag_fn(y_true, y_pred, **self._fn_kwargs)\n    File \"c:\\Users\\mituc\\anaconda3\\envs\\py39\\lib\\site-packages\\keras\\losses.py\", line 1787, in categorical_crossentropy\n        return backend.categorical_crossentropy(\n    File \"c:\\Users\\mituc\\anaconda3\\envs\\py39\\lib\\site-packages\\keras\\backend.py\", line 5119, in categorical_crossentropy\n        target.shape.assert_is_compatible_with(output.shape)\n\n    ValueError: Shapes (None, 1) and (None, 5) are incompatible\n"
     ]
    }
   ],
   "source": [
    "# load model\n",
    "model = load_model('model7.h5')\n",
    "# summarize model.\n",
    "model.summary()\n",
    "# load dataset\n",
    "dataset = df\n",
    "# split into input (X) and output (Y) variables\n",
    "#X = dataset[:0:8]\n",
    "#Y = dataset[:8]\n",
    "# evaluate the model\n",
    "score = model.evaluate(X, Y, verbose=0)\n",
    "print(\"%s: %.2f%%\" % (model.metrics_names[1], score[1]*100))"
   ]
  }
 ],
 "metadata": {
  "kernelspec": {
   "display_name": "Python 3.9.7 ('py39')",
   "language": "python",
   "name": "python3"
  },
  "language_info": {
   "codemirror_mode": {
    "name": "ipython",
    "version": 3
   },
   "file_extension": ".py",
   "mimetype": "text/x-python",
   "name": "python",
   "nbconvert_exporter": "python",
   "pygments_lexer": "ipython3",
   "version": "3.9.7"
  },
  "orig_nbformat": 4,
  "vscode": {
   "interpreter": {
    "hash": "a12e2a4323b2f78fc80bc9af7b1a03df0527f4eb569d45f0586a1ac4c8c01671"
   }
  }
 },
 "nbformat": 4,
 "nbformat_minor": 2
}
